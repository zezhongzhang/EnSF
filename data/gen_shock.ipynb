{
 "cells": [
  {
   "cell_type": "code",
   "execution_count": 25,
   "outputs": [],
   "source": [
    "import numpy as np\n",
    "import matplotlib.pyplot as plt\n",
    "\n"
   ],
   "metadata": {
    "collapsed": false,
    "pycharm": {
     "name": "#%%\n"
    },
    "ExecuteTime": {
     "end_time": "2024-07-08T18:31:15.862488Z",
     "start_time": "2024-07-08T18:31:15.579374Z"
    }
   }
  },
  {
   "cell_type": "code",
   "execution_count": 26,
   "outputs": [
    {
     "data": {
      "text/plain": "<Figure size 864x216 with 1 Axes>",
      "image/png": "[encoded data removed]"
     },
     "metadata": {
      "needs_background": "light"
     },
     "output_type": "display_data"
    },
    {
     "name": "stdout",
     "output_type": "stream",
     "text": [
      "(1500,)\n"
     ]
    }
   ],
   "source": [
    "\n",
    "N_step = 1500\n",
    "shock_prob = [0.005, 0.010, 0.02]\n",
    "shock_size = [0.5, 0.2 , 0.05]\n",
    "\n",
    "shock_profile = []\n",
    "for i in range(N_step):\n",
    "    shock_size_temp = 0\n",
    "    for j in range(len(shock_prob)):\n",
    "        temp_prob = shock_prob[j]\n",
    "        temp_size = shock_size[j]\n",
    "        rnd = np.random.rand()\n",
    "        if rnd < temp_prob:\n",
    "            shock_size_temp += temp_size\n",
    "    shock_profile.append(shock_size_temp)\n",
    "\n",
    "shock_profile = np.array(shock_profile)\n",
    "\n",
    "plt.figure(figsize=(12,3))\n",
    "plt.plot(shock_profile,'.-')\n",
    "plt.title('shock profile')\n",
    "plt.ylabel('shock size')\n",
    "plt.savefig('shock_profile.png', dpi=200)\n",
    "plt.show()\n",
    "print(shock_profile.shape)\n"
   ],
   "metadata": {
    "collapsed": false,
    "pycharm": {
     "name": "#%%\n"
    },
    "ExecuteTime": {
     "end_time": "2024-07-08T18:32:14.386491Z",
     "start_time": "2024-07-08T18:32:14.250572Z"
    }
   }
  },
  {
   "cell_type": "code",
   "execution_count": 27,
   "outputs": [],
   "source": [
    "# save shock profile\n",
    "profile_id = 1\n",
    "np.save(f'shock_profile_{profile_id}.npy', shock_profile)\n"
   ],
   "metadata": {
    "collapsed": false,
    "ExecuteTime": {
     "end_time": "2024-07-08T18:32:28.138984Z",
     "start_time": "2024-07-08T18:32:28.134793Z"
    },
    "pycharm": {
     "name": "#%%\n"
    }
   }
  }
 ],
 "metadata": {
  "kernelspec": {
   "display_name": "Python 3",
   "language": "python",
   "name": "python3"
  },
  "language_info": {
   "codemirror_mode": {
    "name": "ipython",
    "version": 2
   },
   "file_extension": ".py",
   "mimetype": "text/x-python",
   "name": "python",
   "nbconvert_exporter": "python",
   "pygments_lexer": "ipython2",
   "version": "2.7.6"
  }
 },
 "nbformat": 4,
 "nbformat_minor": 0
}