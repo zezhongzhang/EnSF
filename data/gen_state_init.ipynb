{
 "cells": [
  {
   "cell_type": "code",
   "execution_count": 3,
   "outputs": [],
   "source": [
    "from ScoreFilter.utils import *\n"
   ],
   "metadata": {
    "collapsed": false,
    "pycharm": {
     "name": "#%%\n"
    }
   }
  },
  {
   "cell_type": "code",
   "execution_count": 4,
   "outputs": [
    {
     "name": "stdout",
     "output_type": "stream",
     "text": [
      "burn-in 1000 steps:\n",
      "\trep 0\n",
      "\trep 1\n",
      "\trep 2\n",
      "\trep 3\n",
      "\trep 4\n",
      "\trep 5\n",
      "\trep 6\n",
      "\trep 7\n",
      "\trep 8\n",
      "\trep 9\n",
      "state_init_all: (10, 10000)\n"
     ]
    }
   ],
   "source": [
    "dt = 0.01\n",
    "dim_x = 10000\n",
    "N_rep = 10\n",
    "N_burn_in = 1000\n",
    "\n",
    "if __name__ == \"__main__\":\n",
    "    # burn in for initial state\n",
    "    print(f'burn-in {N_burn_in} steps:')\n",
    "    state_init_all = []\n",
    "    for i in range(N_rep):\n",
    "        print(f'\\trep {i}')\n",
    "        # initial seed\n",
    "        state_target = 3 * np.random.randn(dim_x)\n",
    "        t_current = 0.\n",
    "        for i in range(N_burn_in):\n",
    "            state_target = rk4(xt=state_target, fn=lorenz96_drift_np, t=t_current, dt=dt)\n",
    "            t_current += dt\n",
    "        state_init_all.append(state_target)\n",
    "    state_init_all = np.stack(state_init_all, axis=0)\n",
    "    print('state_init_all:', state_init_all.shape)\n",
    "    # save data\n",
    "    np.save(f'state_init_d_{dim_x}_rep_{N_rep}.npy', state_init_all)\n",
    "\n"
   ],
   "metadata": {
    "collapsed": false,
    "pycharm": {
     "name": "#%%\n"
    }
   }
  }
 ],
 "metadata": {
  "kernelspec": {
   "display_name": "Python 3",
   "language": "python",
   "name": "python3"
  },
  "language_info": {
   "codemirror_mode": {
    "name": "ipython",
    "version": 2
   },
   "file_extension": ".py",
   "mimetype": "text/x-python",
   "name": "python",
   "nbconvert_exporter": "python",
   "pygments_lexer": "ipython2",
   "version": "2.7.6"
  }
 },
 "nbformat": 4,
 "nbformat_minor": 5
}