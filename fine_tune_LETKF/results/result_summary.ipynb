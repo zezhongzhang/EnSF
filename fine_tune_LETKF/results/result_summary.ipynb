{
 "cells": [
  {
   "cell_type": "markdown",
   "source": [
    "# aggregate all the results for LETKF"
   ],
   "metadata": {
    "collapsed": false,
    "pycharm": {
     "name": "#%% md\n"
    }
   }
  },
  {
   "cell_type": "code",
   "execution_count": 5,
   "outputs": [],
   "source": [
    "import numpy as np\n",
    "import pandas as pd\n",
    "import matplotlib.pyplot as plt\n",
    "\n",
    "pd.set_option('display.width',300)"
   ],
   "metadata": {
    "collapsed": false,
    "pycharm": {
     "name": "#%%\n"
    }
   }
  },
  {
   "cell_type": "code",
   "execution_count": 6,
   "outputs": [],
   "source": [
    "param_problem = pd.read_csv('../param_problem.csv')\n",
    "\n",
    "#\n",
    "dim_x = param_problem['dim_x'][0]\n",
    "state_init_dir = param_problem['state_init_dir'][0]\n",
    "shock_dir = param_problem['shock_dir'][0]\n",
    "obs_gap = param_problem['obs_gap'][0]\n",
    "obs_sigma = param_problem['obs_sigma'][0]\n",
    "dt = param_problem['dt'][0]\n",
    "N_step = param_problem['N_step'][0]\n",
    "run_up2 = param_problem['run_up2'][0]\n",
    "\n",
    "\n",
    "# color\n",
    "colors = []\n",
    "for i in range(run_up2):\n",
    "    colors.append('#%06X' % np.random.randint(0, 0xFFFFFF))"
   ],
   "metadata": {
    "collapsed": false,
    "pycharm": {
     "name": "#%%\n"
    }
   }
  },
  {
   "cell_type": "code",
   "execution_count": 7,
   "outputs": [
    {
     "name": "stdout",
     "output_type": "stream",
     "text": [
      "LETKF\n",
      "    index  ensemble_size  inflation   r_loc  neighbor_size  rmse_mean\n",
      "0       0             20        0.9  0.0001            0.0   2.514882\n",
      "1       1             20        0.9  1.0000            2.0   2.825737\n",
      "2       2             20        0.9  2.0000            5.0   3.137890\n",
      "3       3             20        0.9  3.0000            7.0   3.651453\n",
      "4       4             20        0.9  4.0000           10.0   3.883262\n",
      "..    ...            ...        ...     ...            ...        ...\n",
      "95     95             20        1.8  5.0000           13.0   8.926676\n",
      "96     96             20        1.8  6.0000           15.0   8.359211\n",
      "97     97             20        1.8  7.0000           18.0  10.012317\n",
      "98     98             20        1.8  8.0000           21.0   6.767689\n",
      "99     99             20        1.8  9.0000           23.0  10.445456\n",
      "\n",
      "[100 rows x 6 columns]\n"
     ]
    }
   ],
   "source": [
    "# rmse for all steps\n",
    "\n",
    "method_names = ['LETKF']\n",
    "\n",
    "for method_name in method_names:\n",
    "    print(method_name)\n",
    "    # load data\n",
    "    param_filter = pd.read_csv(f'../param_{method_name}.csv')\n",
    "    N_total_case = param_filter.shape[0]\n",
    "\n",
    "    rmse_da_step_aggre_all = []\n",
    "    rmse_da_step_mean_all = []\n",
    "    rmse_mean_all = []\n",
    "\n",
    "    for run_case in range(N_total_case):\n",
    "        # load result\n",
    "        case_save_id = param_filter['index'][run_case]\n",
    "        result_rep = np.load(f'{method_name}/result_{case_save_id}.npy', allow_pickle=True)\n",
    "\n",
    "        # aggregate result\n",
    "        rmse_mean = []\n",
    "        for i in range(len(result_rep)):\n",
    "            temp_result = result_rep[i]\n",
    "            rmse_all_step = temp_result['rmse_all_step']\n",
    "            rmse_da_step = temp_result['rmse_da_step']\n",
    "\n",
    "            # mean rmse\n",
    "            rmse_mean.append(np.mean(rmse_da_step[:,1]))\n",
    "        rmse_mean = np.mean(np.array(rmse_mean))\n",
    "\n",
    "        rmse_mean_all.append(rmse_mean)\n",
    "\n",
    "    # add rmse to param list\n",
    "    rmse_mean_all = pd.Series(data=rmse_mean_all, name='rmse_mean')\n",
    "    param_w_rmse = param_filter.join(rmse_mean_all)\n",
    "    param_w_rmse.to_csv(f'rmse_{method_name}.csv', index=False)\n",
    "\n",
    "    print(param_w_rmse)"
   ],
   "metadata": {
    "collapsed": false,
    "pycharm": {
     "name": "#%%\n"
    }
   }
  },
  {
   "cell_type": "code",
   "execution_count": 7,
   "outputs": [],
   "source": [],
   "metadata": {
    "collapsed": false,
    "pycharm": {
     "name": "#%%\n"
    }
   }
  },
  {
   "cell_type": "code",
   "execution_count": 8,
   "outputs": [
    {
     "name": "stdout",
     "output_type": "stream",
     "text": [
      "LETKF\n",
      "    index  ensemble_size  inflation   r_loc  neighbor_size  rmse_mean\n",
      "0       0             20        0.9  0.0001            0.0   4.812590\n",
      "1       1             20        0.9  1.0000            2.0   4.991609\n",
      "2       2             20        0.9  2.0000            5.0   5.090173\n",
      "3       3             20        0.9  3.0000            7.0   5.083555\n",
      "4       4             20        0.9  4.0000           10.0   5.033570\n",
      "..    ...            ...        ...     ...            ...        ...\n",
      "95     95             20        1.8  5.0000           13.0  14.457737\n",
      "96     96             20        1.8  6.0000           15.0  15.243910\n",
      "97     97             20        1.8  7.0000           18.0  17.175523\n",
      "98     98             20        1.8  8.0000           21.0  12.616262\n",
      "99     99             20        1.8  9.0000           23.0  15.734138\n",
      "\n",
      "[100 rows x 6 columns]\n"
     ]
    }
   ],
   "source": [
    "# rmse for last 50 steps\n",
    "\n",
    "method_names = ['LETKF']\n",
    "for method_name in method_names:\n",
    "    print(method_name)\n",
    "    # load data\n",
    "    param_filter = pd.read_csv(f'../param_{method_name}.csv')\n",
    "    N_total_case = param_filter.shape[0]\n",
    "\n",
    "    rmse_da_step_aggre_all = []\n",
    "    rmse_da_step_mean_all = []\n",
    "    rmse_mean_all = []\n",
    "\n",
    "    for run_case in range(N_total_case):\n",
    "        # load result\n",
    "        case_save_id = param_filter['index'][run_case]\n",
    "        result_rep = np.load(f'{method_name}/result_{case_save_id}.npy', allow_pickle=True)\n",
    "\n",
    "        # aggregate result\n",
    "        rmse_mean = []\n",
    "        for i in range(len(result_rep)):\n",
    "            temp_result = result_rep[i]\n",
    "            rmse_all_step = temp_result['rmse_all_step']\n",
    "            rmse_da_step = temp_result['rmse_da_step']\n",
    "\n",
    "            # mean rmse\n",
    "            rmse_mean.append(np.mean(rmse_da_step[100:,1]))\n",
    "        rmse_mean = np.mean(np.array(rmse_mean))\n",
    "\n",
    "        rmse_mean_all.append(rmse_mean)\n",
    "\n",
    "    # add rmse to param list\n",
    "    rmse_mean_all = pd.Series(data=rmse_mean_all, name='rmse_mean')\n",
    "    param_w_rmse = param_filter.join(rmse_mean_all)\n",
    "    param_w_rmse.to_csv(f'final_rmse_{method_name}.csv', index=False)\n",
    "\n",
    "    print(param_w_rmse)"
   ],
   "metadata": {
    "collapsed": false,
    "pycharm": {
     "name": "#%%\n"
    }
   }
  }
 ],
 "metadata": {
  "kernelspec": {
   "display_name": "Python 3",
   "language": "python",
   "name": "python3"
  },
  "language_info": {
   "codemirror_mode": {
    "name": "ipython",
    "version": 2
   },
   "file_extension": ".py",
   "mimetype": "text/x-python",
   "name": "python",
   "nbconvert_exporter": "python",
   "pygments_lexer": "ipython2",
   "version": "2.7.6"
  }
 },
 "nbformat": 4,
 "nbformat_minor": 0
}