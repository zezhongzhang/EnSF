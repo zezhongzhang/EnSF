{
 "cells": [
  {
   "cell_type": "code",
   "execution_count": 1,
   "id": "initial_id",
   "metadata": {
    "collapsed": true,
    "ExecuteTime": {
     "end_time": "2024-07-08T19:31:03.732794Z",
     "start_time": "2024-07-08T19:31:03.291425Z"
    },
    "pycharm": {
     "name": "#%%\n"
    }
   },
   "outputs": [],
   "source": [
    "import matplotlib.pyplot as plt\n",
    "import pandas as pd\n",
    "import numpy as np\n",
    "import os"
   ]
  },
  {
   "cell_type": "code",
   "execution_count": 2,
   "outputs": [
    {
     "name": "stdout",
     "output_type": "stream",
     "text": [
      "(100, 5)\n"
     ]
    }
   ],
   "source": [
    "# LETKF\n",
    "c1 = pd.Series(name='ensemble_size', data=[20])\n",
    "c2 = pd.Series(name='inflation', data=[0.9, 1.0, 1.1, 1.2, 1.3, 1.4, 1.5, 1.6, 1.7, 1.8])\n",
    "c3 = pd.Series(name='r_loc', data=[0.0001, 1, 2, 3, 4, 5, 6, 7, 8, 9])\n",
    "\n",
    "\n",
    "# combine param\n",
    "data_all = [c1, c2, c3]\n",
    "for i in range(len(data_all)):\n",
    "    if i==0:\n",
    "        df = data_all[0]\n",
    "    else:\n",
    "        df = pd.merge(df, data_all[i], how='cross')\n",
    "\n",
    "# compute turncate loc\n",
    "tol = 1000\n",
    "neighbor_size = np.floor(np.sqrt(np.log(tol)) * df['r_loc'])\n",
    "c4 = pd.Series(name='neighbor_size', data=neighbor_size)\n",
    "df = pd.concat([df, c4], axis=1)\n",
    "\n",
    "df.insert(loc=0, column='index', value=list(df.index))\n",
    "print(df.shape)\n",
    "df.to_csv('param_LETKF.csv', index=False)"
   ],
   "metadata": {
    "collapsed": false,
    "pycharm": {
     "name": "#%%\n"
    }
   }
  },
  {
   "cell_type": "code",
   "execution_count": 6,
   "outputs": [],
   "source": [],
   "metadata": {
    "collapsed": false,
    "pycharm": {
     "name": "#%%\n"
    }
   },
   "id": "a32ff1abbd252119"
  }
 ],
 "metadata": {
  "kernelspec": {
   "display_name": "Python 3",
   "language": "python",
   "name": "python3"
  },
  "language_info": {
   "codemirror_mode": {
    "name": "ipython",
    "version": 2
   },
   "file_extension": ".py",
   "mimetype": "text/x-python",
   "name": "python",
   "nbconvert_exporter": "python",
   "pygments_lexer": "ipython2",
   "version": "2.7.6"
  }
 },
 "nbformat": 4,
 "nbformat_minor": 5
}