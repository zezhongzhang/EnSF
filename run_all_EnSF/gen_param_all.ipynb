{
 "cells": [
  {
   "cell_type": "code",
   "execution_count": 21,
   "id": "initial_id",
   "metadata": {
    "collapsed": true,
    "pycharm": {
     "name": "#%%\n"
    },
    "ExecuteTime": {
     "end_time": "2024-07-18T19:35:02.369068Z",
     "start_time": "2024-07-18T19:35:02.367085Z"
    }
   },
   "outputs": [],
   "source": [
    "import matplotlib.pyplot as plt\n",
    "import pandas as pd\n",
    "import numpy as np\n",
    "import os\n",
    "pd.set_option('display.width',300)"
   ]
  },
  {
   "cell_type": "code",
   "execution_count": 22,
   "outputs": [
    {
     "name": "stdout",
     "output_type": "stream",
     "text": [
      "   problem_id  obs_sigma  obs_gap    dt  N_step    dim_x                    shock_dir\n",
      "0           0       0.05       10  0.01    1500  1000000                          NaN\n",
      "1           1       0.03       10  0.01    1500  1000000                          NaN\n",
      "2           2       0.10       10  0.01    1500  1000000                          NaN\n",
      "3           3       0.05       10  0.01    1500  1000000  ../data/shock_profile_1.npy\n",
      "   index  ensemble_size  Nt_SDE  solver_type  gm_var_ratio  inflation  eps_a  eps_b  method_id\n",
      "0     51             20     500            0             0          1    0.5  0.025          0\n",
      "1     61             20     500            0             0          1    0.6  0.025          1\n",
      "2     52             20     500            0             0          1    0.5  0.050          2\n"
     ]
    }
   ],
   "source": [
    "param_problem = pd.read_csv('param_problem.csv')\n",
    "param_letkf = pd.read_csv('param_EnSF.csv')\n",
    "print(param_problem)\n",
    "print(param_letkf)"
   ],
   "metadata": {
    "collapsed": false,
    "pycharm": {
     "name": "#%%\n"
    },
    "ExecuteTime": {
     "end_time": "2024-07-18T19:35:02.384689Z",
     "start_time": "2024-07-18T19:35:02.369648Z"
    }
   },
   "id": "45eea50f31b26075"
  },
  {
   "cell_type": "code",
   "execution_count": 23,
   "outputs": [
    {
     "name": "stdout",
     "output_type": "stream",
     "text": [
      "0    0\n",
      "1    1\n",
      "2    2\n",
      "3    3\n",
      "4    4\n",
      "5    5\n",
      "6    6\n",
      "7    7\n",
      "8    8\n",
      "9    9\n",
      "Name: init_id, dtype: int32\n"
     ]
    }
   ],
   "source": [
    "rep_total = 10\n",
    "init_id = np.arange(rep_total)\n",
    "init_id = pd.Series(name='init_id', data=init_id)\n",
    "print(init_id)\n"
   ],
   "metadata": {
    "collapsed": false,
    "pycharm": {
     "name": "#%%\n"
    },
    "ExecuteTime": {
     "end_time": "2024-07-18T19:35:02.386295Z",
     "start_time": "2024-07-18T19:35:02.384129Z"
    }
   },
   "id": "d610adaa1f84c49"
  },
  {
   "cell_type": "code",
   "execution_count": 24,
   "outputs": [
    {
     "name": "stdout",
     "output_type": "stream",
     "text": [
      "(120, 19)\n",
      "   run_index  problem_id  obs_sigma  obs_gap    dt  N_step    dim_x shock_dir  index  ensemble_size  Nt_SDE  solver_type  gm_var_ratio  inflation  eps_a  eps_b  method_id  init_id  seed\n",
      "0          0           0       0.05       10  0.01    1500  1000000       NaN     51             20     500            0             0          1    0.5  0.025          0        0     0\n",
      "1          1           0       0.05       10  0.01    1500  1000000       NaN     51             20     500            0             0          1    0.5  0.025          0        1     1\n",
      "2          2           0       0.05       10  0.01    1500  1000000       NaN     51             20     500            0             0          1    0.5  0.025          0        2     2\n",
      "3          3           0       0.05       10  0.01    1500  1000000       NaN     51             20     500            0             0          1    0.5  0.025          0        3     3\n",
      "4          4           0       0.05       10  0.01    1500  1000000       NaN     51             20     500            0             0          1    0.5  0.025          0        4     4\n"
     ]
    }
   ],
   "source": [
    "# param_problem = pd.merge(param_problem, seed_all, how='cross')\n",
    "param_combined = pd.merge(param_problem,param_letkf, how='cross')\n",
    "param_combined = pd.merge(param_combined, init_id, how='cross')\n",
    "param_combined.insert(loc=0, column='run_index', value=list(param_combined.index))\n",
    "\n",
    "# add seed according to init state\n",
    "seed = pd.Series(name='seed', data=param_combined['init_id'])\n",
    "param_combined = pd.concat([param_combined, seed], axis=1)\n",
    "print(param_combined.shape)\n",
    "print(param_combined.head())\n",
    "param_combined.to_csv('param_combined.csv', index=False)"
   ],
   "metadata": {
    "collapsed": false,
    "pycharm": {
     "name": "#%%\n"
    },
    "ExecuteTime": {
     "end_time": "2024-07-18T19:35:02.399203Z",
     "start_time": "2024-07-18T19:35:02.387241Z"
    }
   },
   "id": "cb47a059c794b1f8"
  },
  {
   "cell_type": "code",
   "execution_count": 25,
   "outputs": [
    {
     "data": {
      "text/plain": "     run_index  problem_id  obs_sigma  obs_gap    dt  N_step    dim_x                    shock_dir  index  ensemble_size  Nt_SDE  solver_type  gm_var_ratio  inflation  eps_a  eps_b  method_id  init_id  seed\n0            0           0       0.05       10  0.01    1500  1000000                          NaN     51             20     500            0             0          1    0.5  0.025          0        0     0\n1            1           0       0.05       10  0.01    1500  1000000                          NaN     51             20     500            0             0          1    0.5  0.025          0        1     1\n2            2           0       0.05       10  0.01    1500  1000000                          NaN     51             20     500            0             0          1    0.5  0.025          0        2     2\n3            3           0       0.05       10  0.01    1500  1000000                          NaN     51             20     500            0             0          1    0.5  0.025          0        3     3\n4            4           0       0.05       10  0.01    1500  1000000                          NaN     51             20     500            0             0          1    0.5  0.025          0        4     4\n..         ...         ...        ...      ...   ...     ...      ...                          ...    ...            ...     ...          ...           ...        ...    ...    ...        ...      ...   ...\n115        115           3       0.05       10  0.01    1500  1000000  ../data/shock_profile_1.npy     52             20     500            0             0          1    0.5  0.050          2        5     5\n116        116           3       0.05       10  0.01    1500  1000000  ../data/shock_profile_1.npy     52             20     500            0             0          1    0.5  0.050          2        6     6\n117        117           3       0.05       10  0.01    1500  1000000  ../data/shock_profile_1.npy     52             20     500            0             0          1    0.5  0.050          2        7     7\n118        118           3       0.05       10  0.01    1500  1000000  ../data/shock_profile_1.npy     52             20     500            0             0          1    0.5  0.050          2        8     8\n119        119           3       0.05       10  0.01    1500  1000000  ../data/shock_profile_1.npy     52             20     500            0             0          1    0.5  0.050          2        9     9\n\n[120 rows x 19 columns]",
      "text/html": "<div>\n<style scoped>\n    .dataframe tbody tr th:only-of-type {\n        vertical-align: middle;\n    }\n\n    .dataframe tbody tr th {\n        vertical-align: top;\n    }\n\n    .dataframe thead th {\n        text-align: right;\n    }\n</style>\n<table border=\"1\" class=\"dataframe\">\n  <thead>\n    <tr style=\"text-align: right;\">\n      <th></th>\n      <th>run_index</th>\n      <th>problem_id</th>\n      <th>obs_sigma</th>\n      <th>obs_gap</th>\n      <th>dt</th>\n      <th>N_step</th>\n      <th>dim_x</th>\n      <th>shock_dir</th>\n      <th>index</th>\n      <th>ensemble_size</th>\n      <th>Nt_SDE</th>\n      <th>solver_type</th>\n      <th>gm_var_ratio</th>\n      <th>inflation</th>\n      <th>eps_a</th>\n      <th>eps_b</th>\n      <th>method_id</th>\n      <th>init_id</th>\n      <th>seed</th>\n    </tr>\n  </thead>\n  <tbody>\n    <tr>\n      <th>0</th>\n      <td>0</td>\n      <td>0</td>\n      <td>0.05</td>\n      <td>10</td>\n      <td>0.01</td>\n      <td>1500</td>\n      <td>1000000</td>\n      <td>NaN</td>\n      <td>51</td>\n      <td>20</td>\n      <td>500</td>\n      <td>0</td>\n      <td>0</td>\n      <td>1</td>\n      <td>0.5</td>\n      <td>0.025</td>\n      <td>0</td>\n      <td>0</td>\n      <td>0</td>\n    </tr>\n    <tr>\n      <th>1</th>\n      <td>1</td>\n      <td>0</td>\n      <td>0.05</td>\n      <td>10</td>\n      <td>0.01</td>\n      <td>1500</td>\n      <td>1000000</td>\n      <td>NaN</td>\n      <td>51</td>\n      <td>20</td>\n      <td>500</td>\n      <td>0</td>\n      <td>0</td>\n      <td>1</td>\n      <td>0.5</td>\n      <td>0.025</td>\n      <td>0</td>\n      <td>1</td>\n      <td>1</td>\n    </tr>\n    <tr>\n      <th>2</th>\n      <td>2</td>\n      <td>0</td>\n      <td>0.05</td>\n      <td>10</td>\n      <td>0.01</td>\n      <td>1500</td>\n      <td>1000000</td>\n      <td>NaN</td>\n      <td>51</td>\n      <td>20</td>\n      <td>500</td>\n      <td>0</td>\n      <td>0</td>\n      <td>1</td>\n      <td>0.5</td>\n      <td>0.025</td>\n      <td>0</td>\n      <td>2</td>\n      <td>2</td>\n    </tr>\n    <tr>\n      <th>3</th>\n      <td>3</td>\n      <td>0</td>\n      <td>0.05</td>\n      <td>10</td>\n      <td>0.01</td>\n      <td>1500</td>\n      <td>1000000</td>\n      <td>NaN</td>\n      <td>51</td>\n      <td>20</td>\n      <td>500</td>\n      <td>0</td>\n      <td>0</td>\n      <td>1</td>\n      <td>0.5</td>\n      <td>0.025</td>\n      <td>0</td>\n      <td>3</td>\n      <td>3</td>\n    </tr>\n    <tr>\n      <th>4</th>\n      <td>4</td>\n      <td>0</td>\n      <td>0.05</td>\n      <td>10</td>\n      <td>0.01</td>\n      <td>1500</td>\n      <td>1000000</td>\n      <td>NaN</td>\n      <td>51</td>\n      <td>20</td>\n      <td>500</td>\n      <td>0</td>\n      <td>0</td>\n      <td>1</td>\n      <td>0.5</td>\n      <td>0.025</td>\n      <td>0</td>\n      <td>4</td>\n      <td>4</td>\n    </tr>\n    <tr>\n      <th>...</th>\n      <td>...</td>\n      <td>...</td>\n      <td>...</td>\n      <td>...</td>\n      <td>...</td>\n      <td>...</td>\n      <td>...</td>\n      <td>...</td>\n      <td>...</td>\n      <td>...</td>\n      <td>...</td>\n      <td>...</td>\n      <td>...</td>\n      <td>...</td>\n      <td>...</td>\n      <td>...</td>\n      <td>...</td>\n      <td>...</td>\n      <td>...</td>\n    </tr>\n    <tr>\n      <th>115</th>\n      <td>115</td>\n      <td>3</td>\n      <td>0.05</td>\n      <td>10</td>\n      <td>0.01</td>\n      <td>1500</td>\n      <td>1000000</td>\n      <td>../data/shock_profile_1.npy</td>\n      <td>52</td>\n      <td>20</td>\n      <td>500</td>\n      <td>0</td>\n      <td>0</td>\n      <td>1</td>\n      <td>0.5</td>\n      <td>0.050</td>\n      <td>2</td>\n      <td>5</td>\n      <td>5</td>\n    </tr>\n    <tr>\n      <th>116</th>\n      <td>116</td>\n      <td>3</td>\n      <td>0.05</td>\n      <td>10</td>\n      <td>0.01</td>\n      <td>1500</td>\n      <td>1000000</td>\n      <td>../data/shock_profile_1.npy</td>\n      <td>52</td>\n      <td>20</td>\n      <td>500</td>\n      <td>0</td>\n      <td>0</td>\n      <td>1</td>\n      <td>0.5</td>\n      <td>0.050</td>\n      <td>2</td>\n      <td>6</td>\n      <td>6</td>\n    </tr>\n    <tr>\n      <th>117</th>\n      <td>117</td>\n      <td>3</td>\n      <td>0.05</td>\n      <td>10</td>\n      <td>0.01</td>\n      <td>1500</td>\n      <td>1000000</td>\n      <td>../data/shock_profile_1.npy</td>\n      <td>52</td>\n      <td>20</td>\n      <td>500</td>\n      <td>0</td>\n      <td>0</td>\n      <td>1</td>\n      <td>0.5</td>\n      <td>0.050</td>\n      <td>2</td>\n      <td>7</td>\n      <td>7</td>\n    </tr>\n    <tr>\n      <th>118</th>\n      <td>118</td>\n      <td>3</td>\n      <td>0.05</td>\n      <td>10</td>\n      <td>0.01</td>\n      <td>1500</td>\n      <td>1000000</td>\n      <td>../data/shock_profile_1.npy</td>\n      <td>52</td>\n      <td>20</td>\n      <td>500</td>\n      <td>0</td>\n      <td>0</td>\n      <td>1</td>\n      <td>0.5</td>\n      <td>0.050</td>\n      <td>2</td>\n      <td>8</td>\n      <td>8</td>\n    </tr>\n    <tr>\n      <th>119</th>\n      <td>119</td>\n      <td>3</td>\n      <td>0.05</td>\n      <td>10</td>\n      <td>0.01</td>\n      <td>1500</td>\n      <td>1000000</td>\n      <td>../data/shock_profile_1.npy</td>\n      <td>52</td>\n      <td>20</td>\n      <td>500</td>\n      <td>0</td>\n      <td>0</td>\n      <td>1</td>\n      <td>0.5</td>\n      <td>0.050</td>\n      <td>2</td>\n      <td>9</td>\n      <td>9</td>\n    </tr>\n  </tbody>\n</table>\n<p>120 rows × 19 columns</p>\n</div>"
     },
     "execution_count": 25,
     "metadata": {},
     "output_type": "execute_result"
    }
   ],
   "source": [
    "param_combined"
   ],
   "metadata": {
    "collapsed": false,
    "pycharm": {
     "name": "#%%\n"
    },
    "ExecuteTime": {
     "end_time": "2024-07-18T19:35:02.422720Z",
     "start_time": "2024-07-18T19:35:02.404435Z"
    }
   },
   "id": "32a92ee5146c7e3b"
  }
 ],
 "metadata": {
  "kernelspec": {
   "display_name": "Python 3",
   "language": "python",
   "name": "python3"
  },
  "language_info": {
   "codemirror_mode": {
    "name": "ipython",
    "version": 2
   },
   "file_extension": ".py",
   "mimetype": "text/x-python",
   "name": "python",
   "nbconvert_exporter": "python",
   "pygments_lexer": "ipython2",
   "version": "2.7.6"
  }
 },
 "nbformat": 4,
 "nbformat_minor": 5
}