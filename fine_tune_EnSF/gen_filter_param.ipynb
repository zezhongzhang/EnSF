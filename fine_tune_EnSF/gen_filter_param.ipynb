{
 "cells": [
  {
   "cell_type": "code",
   "execution_count": 3,
   "id": "initial_id",
   "metadata": {
    "collapsed": true,
    "pycharm": {
     "name": "#%%\n"
    },
    "ExecuteTime": {
     "end_time": "2024-07-18T19:03:14.099395Z",
     "start_time": "2024-07-18T19:03:14.097650Z"
    }
   },
   "outputs": [],
   "source": [
    "import matplotlib.pyplot as plt\n",
    "import pandas as pd\n",
    "import numpy as np\n",
    "import os"
   ]
  },
  {
   "cell_type": "code",
   "execution_count": 4,
   "outputs": [
    {
     "name": "stdout",
     "output_type": "stream",
     "text": [
      "(100, 8)\n"
     ]
    }
   ],
   "source": [
    "# EnSF\n",
    "c1 = pd.Series(name='ensemble_size', data=[20])\n",
    "c2 = pd.Series(name='Nt_SDE', data=[200])\n",
    "c3 = pd.Series(name='solver_type', data=[0])\n",
    "\n",
    "c4 = pd.Series(name='gm_var_ratio', data=[0.])\n",
    "\n",
    "c5 = pd.Series(name='inflation', data=[1.0])\n",
    "\n",
    "c6 = pd.Series(name='eps_a', data=[0.001, 0.1, 0.2, 0.3, 0.4, 0.5, 0.6, 0.7, 0.8, 0.9])\n",
    "\n",
    "c7 = pd.Series(name='eps_b', data=[0.001, 0.025, 0.05, 0.075, 0.100, 0.125, 0.150, 0.175, 0.200, 0.225])\n",
    "\n",
    "# combine param\n",
    "data_all = [c1, c2, c3, c4, c5, c6, c7]\n",
    "for i in range(len(data_all)):\n",
    "    if i==0:\n",
    "        df = data_all[0]\n",
    "    else:\n",
    "        df = pd.merge(df, data_all[i], how='cross')\n",
    "        \n",
    "df.insert(loc=0, column='index', value=list(df.index))\n",
    "print(df.shape)\n",
    "df.to_csv('param_EnSF.csv', index=False)"
   ],
   "metadata": {
    "collapsed": false,
    "pycharm": {
     "name": "#%%\n"
    },
    "ExecuteTime": {
     "end_time": "2024-07-18T19:03:14.121316Z",
     "start_time": "2024-07-18T19:03:14.109785Z"
    }
   },
   "id": "ab15cba9b1d74d32"
  },
  {
   "cell_type": "code",
   "execution_count": 4,
   "outputs": [],
   "source": [],
   "metadata": {
    "collapsed": false,
    "pycharm": {
     "name": "#%%\n"
    },
    "ExecuteTime": {
     "end_time": "2024-07-18T19:03:14.121625Z",
     "start_time": "2024-07-18T19:03:14.120169Z"
    }
   },
   "id": "fa0f3b52729326ba"
  }
 ],
 "metadata": {
  "kernelspec": {
   "display_name": "Python 3",
   "language": "python",
   "name": "python3"
  },
  "language_info": {
   "codemirror_mode": {
    "name": "ipython",
    "version": 2
   },
   "file_extension": ".py",
   "mimetype": "text/x-python",
   "name": "python",
   "nbconvert_exporter": "python",
   "pygments_lexer": "ipython2",
   "version": "2.7.6"
  }
 },
 "nbformat": 4,
 "nbformat_minor": 5
}